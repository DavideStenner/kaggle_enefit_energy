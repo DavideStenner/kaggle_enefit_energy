{
 "cells": [
  {
   "cell_type": "code",
   "execution_count": 1,
   "id": "2114fe09",
   "metadata": {
    "execution": {
     "iopub.execute_input": "2024-01-31T09:11:40.722287Z",
     "iopub.status.busy": "2024-01-31T09:11:40.721597Z",
     "iopub.status.idle": "2024-01-31T09:11:41.085068Z",
     "shell.execute_reply": "2024-01-31T09:11:41.083623Z"
    },
    "papermill": {
     "duration": 0.370669,
     "end_time": "2024-01-31T09:11:41.087446",
     "exception": false,
     "start_time": "2024-01-31T09:11:40.716777",
     "status": "completed"
    },
    "tags": []
   },
   "outputs": [],
   "source": [
    "import os\n",
    "import sys\n",
    "import numpy as np\n",
    "import polars as pl\n",
    "\n",
    "package_paths = [\n",
    "    '/kaggle/input/enefit-experiment-benchmark-live/kaggle_enefit_energy',\n",
    "]\n",
    "\n",
    "for pth in package_paths:\n",
    "    sys.path.append(pth)"
   ]
  },
  {
   "cell_type": "code",
   "execution_count": 2,
   "id": "07a97202",
   "metadata": {
    "execution": {
     "iopub.execute_input": "2024-01-31T09:11:41.094559Z",
     "iopub.status.busy": "2024-01-31T09:11:41.094101Z",
     "iopub.status.idle": "2024-01-31T09:11:46.600560Z",
     "shell.execute_reply": "2024-01-31T09:11:46.599540Z"
    },
    "papermill": {
     "duration": 5.512426,
     "end_time": "2024-01-31T09:11:46.602911",
     "exception": false,
     "start_time": "2024-01-31T09:11:41.090485",
     "status": "completed"
    },
    "tags": []
   },
   "outputs": [],
   "source": [
    "import enefit\n",
    "\n",
    "from src.utils.import_utils import import_config, import_params\n",
    "from src.preprocess import PreprocessPipeline\n",
    "from src.model.lgbm import ModelPipeline\n",
    "\n",
    "config_dict = {\n",
    "    \"PATH_ORIGINAL_DATA\": r'/kaggle/input/predict-energy-behavior-of-prosumers',\n",
    "    \"PATH_PARQUET_DATA\": r'data/parquet',\n",
    "    \"PATH_MAPPING_DATA\": r'/kaggle/input/predict-energy-behavior-of-prosumers',\n",
    "    \"PATH_EXPERIMENT\": r'experiment',\n",
    "    \"N_FOLD\": 5,\n",
    "    \"TARGET_COL\": \"target\"\n",
    "}\n",
    "\n",
    "if not os.path.exists('config'):\n",
    "    os.makedirs('config')\n",
    "\n",
    "if not os.path.exists(config_dict['PATH_PARQUET_DATA']):\n",
    "    os.makedirs(config_dict['PATH_PARQUET_DATA'])\n",
    "\n",
    "if not os.path.exists(config_dict['PATH_EXPERIMENT']):\n",
    "    os.makedirs(config_dict['PATH_EXPERIMENT'])\n",
    "                \n",
    "with open('/kaggle/input/enefit-experiment-benchmark-live/kaggle_enefit_energy/config/best_feature.txt', \"r\") as file:\n",
    "    to_write = file.read()\n",
    "    \n",
    "    with open('config/best_feature.txt', 'w') as file_write:\n",
    "        file_write.write(to_write)"
   ]
  },
  {
   "cell_type": "code",
   "execution_count": 3,
   "id": "0edf4b18",
   "metadata": {
    "execution": {
     "iopub.execute_input": "2024-01-31T09:11:46.609018Z",
     "iopub.status.busy": "2024-01-31T09:11:46.608448Z",
     "iopub.status.idle": "2024-01-31T09:11:46.730141Z",
     "shell.execute_reply": "2024-01-31T09:11:46.728727Z"
    },
    "papermill": {
     "duration": 0.127889,
     "end_time": "2024-01-31T09:11:46.733091",
     "exception": false,
     "start_time": "2024-01-31T09:11:46.605202",
     "status": "completed"
    },
    "tags": []
   },
   "outputs": [
    {
     "name": "stdout",
     "output_type": "stream",
     "text": [
      "Importing best feature from lgb experiment\n"
     ]
    }
   ],
   "source": [
    "data_processor = PreprocessPipeline(\n",
    "    config_dict=config_dict, \n",
    "    target_n_lags=14,\n",
    "    embarko_skip=60\n",
    ")\n",
    "trainer = ModelPipeline(\n",
    "    experiment_name='benchmark_live',\n",
    "    params_lgb={\n",
    "        \"boosting_type\": \"gbdt\",\n",
    "        \"objective\": \"mae\",\n",
    "        \"n_jobs\": -1,\n",
    "        \"num_leaves\": 256,\n",
    "        \"learning_rate\": 0.1,\n",
    "        \"feature_fraction\": 0.75,\n",
    "        \"feature_fraction_bynode\": 0.75,\n",
    "        \"bagging_freq\": 1,\n",
    "        \"bagging_fraction\": 0.80,\n",
    "        \"lambda_l1\": 3.5,\n",
    "        \"lambda_l2\": 1.5,\n",
    "        \"max_depth\": 20,\n",
    "        \"min_data_in_leaf\": 50,\n",
    "        \"verbosity\": -1,\n",
    "        \"n_round\": 3000,\n",
    "        \"min_data_in_bin\": 5\n",
    "    },\n",
    "    config_dict=config_dict,\n",
    "    metric_eval='l1', log_evaluation=50,\n",
    "    use_importance_filter=True, number_importance_feature=200\n",
    ")"
   ]
  },
  {
   "cell_type": "code",
   "execution_count": 4,
   "id": "3f085a50",
   "metadata": {
    "execution": {
     "iopub.execute_input": "2024-01-31T09:11:46.741065Z",
     "iopub.status.busy": "2024-01-31T09:11:46.740692Z",
     "iopub.status.idle": "2024-01-31T09:11:46.746263Z",
     "shell.execute_reply": "2024-01-31T09:11:46.745269Z"
    },
    "papermill": {
     "duration": 0.013855,
     "end_time": "2024-01-31T09:11:46.750009",
     "exception": false,
     "start_time": "2024-01-31T09:11:46.736154",
     "status": "completed"
    },
    "tags": []
   },
   "outputs": [],
   "source": [
    "env = enefit.make_env()\n",
    "iter_test = env.iter_test()"
   ]
  },
  {
   "cell_type": "code",
   "execution_count": 5,
   "id": "fb8a0081",
   "metadata": {
    "execution": {
     "iopub.execute_input": "2024-01-31T09:11:46.760439Z",
     "iopub.status.busy": "2024-01-31T09:11:46.759501Z",
     "iopub.status.idle": "2024-01-31T09:11:47.524758Z",
     "shell.execute_reply": "2024-01-31T09:11:47.522585Z"
    },
    "papermill": {
     "duration": 0.772775,
     "end_time": "2024-01-31T09:11:47.527421",
     "exception": false,
     "start_time": "2024-01-31T09:11:46.754646",
     "status": "completed"
    },
    "tags": []
   },
   "outputs": [
    {
     "name": "stdout",
     "output_type": "stream",
     "text": [
      "This version of the API is not optimized and should not be used to estimate the runtime of your code on the hidden test set.\n"
     ]
    }
   ],
   "source": [
    "for (\n",
    "    test_data, \n",
    "    target_data_new, \n",
    "    client_data_new, \n",
    "    historical_weather_data_new,\n",
    "    forecast_weather_data_new, \n",
    "    electricity_data_new, \n",
    "    gas_data_new, \n",
    "    sample_prediction\n",
    ") in iter_test:\n",
    "        \n",
    "    if data_processor.inference:\n",
    "        #inference phase append and predict if necessary. don't retrain\n",
    "        data_processor.update_with_new_data(\n",
    "            client_data_new = client_data_new,\n",
    "            gas_data_new = gas_data_new,\n",
    "            electricity_data_new = electricity_data_new,\n",
    "            forecast_weather_data_new = forecast_weather_data_new,\n",
    "            historical_weather_data_new = historical_weather_data_new,\n",
    "            target_data_new = target_data_new,\n",
    "            test_data = test_data\n",
    "        )\n",
    "        \n",
    "        if any(test_data[\"currently_scored\"]):\n",
    "            data_processor()\n",
    "\n",
    "            #ensure correct order of prediction\n",
    "            sample_prediction[\"target\"] = trainer.predict(data_processor.data)\n",
    "                \n",
    "        else:\n",
    "            sample_prediction[\"target\"] = 0\n",
    "            \n",
    "    else:\n",
    "        #APPENDING PHASE.. WAITING TO START TRAINING\n",
    "        test_data_append = target_data_new.rename(\n",
    "                columns={\"datetime\": \"prediction_datetime\"}\n",
    "            )\n",
    "        test_data_append['currently_scored'] = False\n",
    "\n",
    "        data_processor.update_with_new_data(\n",
    "            client_data_new = client_data_new,\n",
    "            gas_data_new = gas_data_new,\n",
    "            electricity_data_new = electricity_data_new,\n",
    "            forecast_weather_data_new = forecast_weather_data_new,\n",
    "            historical_weather_data_new = historical_weather_data_new,\n",
    "            target_data_new = target_data_new,\n",
    "            test_data = test_data_append\n",
    "        )\n",
    "        if any(test_data[\"currently_scored\"]):\n",
    "            #train the model first time then enter inference phase\n",
    "            \n",
    "            print('Getting dataset')\n",
    "            data_processor()\n",
    "            \n",
    "            print('training model')\n",
    "            trainer.train_explain()\n",
    "            \n",
    "            print('Activating inference')\n",
    "            \n",
    "            #activate inference now and predict\n",
    "            trainer.activate_inference()\n",
    "            data_processor.begin_inference()\n",
    "            \n",
    "            #update test data to predict\n",
    "            data_processor.update_with_new_data(\n",
    "                client_data_new = client_data_new,\n",
    "                gas_data_new = gas_data_new,\n",
    "                electricity_data_new = electricity_data_new,\n",
    "                forecast_weather_data_new = forecast_weather_data_new,\n",
    "                historical_weather_data_new = historical_weather_data_new,\n",
    "                target_data_new = target_data_new,\n",
    "                test_data = test_data\n",
    "            )\n",
    "            data_processor()\n",
    "\n",
    "            #predict\n",
    "            sample_prediction[\"target\"] = trainer.predict(data_processor.data)\n",
    "        \n",
    "        else:\n",
    "            #continue appending data\n",
    "            sample_prediction[\"target\"] = 0\n",
    "\n",
    "    env.predict(sample_prediction)"
   ]
  }
 ],
 "metadata": {
  "kaggle": {
   "accelerator": "none",
   "dataSources": [
    {
     "databundleVersionId": 7292407,
     "sourceId": 57236,
     "sourceType": "competition"
    },
    {
     "datasetId": 4374990,
     "sourceId": 7519095,
     "sourceType": "datasetVersion"
    }
   ],
   "dockerImageVersionId": 30646,
   "isGpuEnabled": false,
   "isInternetEnabled": false,
   "language": "python",
   "sourceType": "notebook"
  },
  "kernelspec": {
   "display_name": "Python 3",
   "language": "python",
   "name": "python3"
  },
  "language_info": {
   "codemirror_mode": {
    "name": "ipython",
    "version": 3
   },
   "file_extension": ".py",
   "mimetype": "text/x-python",
   "name": "python",
   "nbconvert_exporter": "python",
   "pygments_lexer": "ipython3",
   "version": "3.10.13"
  },
  "papermill": {
   "default_parameters": {},
   "duration": 10.8738,
   "end_time": "2024-01-31T09:11:48.553307",
   "environment_variables": {},
   "exception": null,
   "input_path": "__notebook__.ipynb",
   "output_path": "__notebook__.ipynb",
   "parameters": {},
   "start_time": "2024-01-31T09:11:37.679507",
   "version": "2.4.0"
  }
 },
 "nbformat": 4,
 "nbformat_minor": 5
}
