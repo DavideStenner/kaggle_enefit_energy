{
 "cells": [
  {
   "cell_type": "code",
   "execution_count": 1,
   "id": "9454ceaf",
   "metadata": {
    "execution": {
     "iopub.execute_input": "2024-01-31T08:38:18.778399Z",
     "iopub.status.busy": "2024-01-31T08:38:18.777483Z",
     "iopub.status.idle": "2024-01-31T08:38:19.042727Z",
     "shell.execute_reply": "2024-01-31T08:38:19.041404Z"
    },
    "papermill": {
     "duration": 0.273183,
     "end_time": "2024-01-31T08:38:19.045791",
     "exception": false,
     "start_time": "2024-01-31T08:38:18.772608",
     "status": "completed"
    },
    "tags": []
   },
   "outputs": [],
   "source": [
    "import sys\n",
    "import polars as pl\n",
    "\n",
    "package_paths = [\n",
    "    '/kaggle/input/enefit-experiment-benchmark-all/kaggle_enefit_energy',\n",
    "]\n",
    "\n",
    "for pth in package_paths:\n",
    "    sys.path.append(pth)"
   ]
  },
  {
   "cell_type": "code",
   "execution_count": 2,
   "id": "53b6a0f5",
   "metadata": {
    "execution": {
     "iopub.execute_input": "2024-01-31T08:38:19.053192Z",
     "iopub.status.busy": "2024-01-31T08:38:19.052726Z",
     "iopub.status.idle": "2024-01-31T08:38:51.124231Z",
     "shell.execute_reply": "2024-01-31T08:38:51.123080Z"
    },
    "papermill": {
     "duration": 32.078176,
     "end_time": "2024-01-31T08:38:51.126878",
     "exception": false,
     "start_time": "2024-01-31T08:38:19.048702",
     "status": "completed"
    },
    "tags": []
   },
   "outputs": [],
   "source": [
    "import enefit\n",
    "\n",
    "from src.utils.import_utils import import_config, import_params\n",
    "from src.preprocess import PreprocessPipeline\n",
    "from src.model.lgbm import ModelPipeline\n",
    "\n",
    "config_dict = {\n",
    "    \"PATH_ORIGINAL_DATA\": r'/kaggle/input/predict-energy-behavior-of-prosumers',\n",
    "    \"PATH_PARQUET_DATA\": None,\n",
    "    \"PATH_MAPPING_DATA\": r'/kaggle/input/predict-energy-behavior-of-prosumers',\n",
    "    \"PATH_EXPERIMENT\": r'/kaggle/input/enefit-experiment-benchmark-all/kaggle_enefit_energy/experiment',\n",
    "    \"N_FOLD\": 5,\n",
    "    \"TARGET_COL\": \"target\"\n",
    "}\n",
    "\n",
    "trainer = ModelPipeline(\n",
    "    experiment_name='final_lgb',\n",
    "    params_lgb={},\n",
    "    config_dict=config_dict,\n",
    "    metric_eval='l1', \n",
    ")\n",
    "\n",
    "data_processor = PreprocessPipeline(\n",
    "    config_dict=config_dict, \n",
    "    target_n_lags=14,\n",
    "    embarko_skip=30\n",
    ")\n",
    "\n",
    "trainer.activate_inference()\n",
    "data_processor.begin_inference()"
   ]
  },
  {
   "cell_type": "code",
   "execution_count": 3,
   "id": "735ab138",
   "metadata": {
    "execution": {
     "iopub.execute_input": "2024-01-31T08:38:51.133902Z",
     "iopub.status.busy": "2024-01-31T08:38:51.133119Z",
     "iopub.status.idle": "2024-01-31T08:38:51.137799Z",
     "shell.execute_reply": "2024-01-31T08:38:51.136992Z"
    },
    "papermill": {
     "duration": 0.010737,
     "end_time": "2024-01-31T08:38:51.140026",
     "exception": false,
     "start_time": "2024-01-31T08:38:51.129289",
     "status": "completed"
    },
    "tags": []
   },
   "outputs": [],
   "source": [
    "env = enefit.make_env()\n",
    "iter_test = env.iter_test()"
   ]
  },
  {
   "cell_type": "code",
   "execution_count": 4,
   "id": "cbde472c",
   "metadata": {
    "execution": {
     "iopub.execute_input": "2024-01-31T08:38:51.148662Z",
     "iopub.status.busy": "2024-01-31T08:38:51.147938Z",
     "iopub.status.idle": "2024-01-31T08:39:08.770069Z",
     "shell.execute_reply": "2024-01-31T08:39:08.769092Z"
    },
    "papermill": {
     "duration": 17.629968,
     "end_time": "2024-01-31T08:39:08.772837",
     "exception": false,
     "start_time": "2024-01-31T08:38:51.142869",
     "status": "completed"
    },
    "tags": []
   },
   "outputs": [
    {
     "name": "stdout",
     "output_type": "stream",
     "text": [
      "This version of the API is not optimized and should not be used to estimate the runtime of your code on the hidden test set.\n"
     ]
    }
   ],
   "source": [
    "for (\n",
    "    test_data, \n",
    "    target_data_new, \n",
    "    client_data_new, \n",
    "    historical_weather_data_new,\n",
    "    forecast_weather_data_new, \n",
    "    electricity_data_new, \n",
    "    gas_data_new, \n",
    "    sample_prediction\n",
    ") in iter_test:\n",
    "\n",
    "    data_processor.update_with_new_data(\n",
    "        client_data_new = client_data_new,\n",
    "        gas_data_new = gas_data_new,\n",
    "        electricity_data_new = electricity_data_new,\n",
    "        forecast_weather_data_new = forecast_weather_data_new,\n",
    "        historical_weather_data_new = historical_weather_data_new,\n",
    "        target_data_new = target_data_new,\n",
    "        test_data = test_data\n",
    "    )\n",
    "\n",
    "    if any(test_data[\"currently_scored\"]):\n",
    "        data_processor()\n",
    "        \n",
    "        #ensure correct order of prediction\n",
    "        sample_prediction[\"target\"] = trainer.predict(data_processor.data)\n",
    "                \n",
    "    else:\n",
    "        sample_prediction[\"target\"] = 0\n",
    "        \n",
    "    env.predict(sample_prediction)    "
   ]
  }
 ],
 "metadata": {
  "kaggle": {
   "accelerator": "none",
   "dataSources": [
    {
     "databundleVersionId": 7292407,
     "sourceId": 57236,
     "sourceType": "competition"
    },
    {
     "datasetId": 4370080,
     "sourceId": 7519139,
     "sourceType": "datasetVersion"
    }
   ],
   "dockerImageVersionId": 30635,
   "isGpuEnabled": false,
   "isInternetEnabled": false,
   "language": "python",
   "sourceType": "notebook"
  },
  "kernelspec": {
   "display_name": "Python 3",
   "language": "python",
   "name": "python3"
  },
  "language_info": {
   "codemirror_mode": {
    "name": "ipython",
    "version": 3
   },
   "file_extension": ".py",
   "mimetype": "text/x-python",
   "name": "python",
   "nbconvert_exporter": "python",
   "pygments_lexer": "ipython3",
   "version": "3.10.12"
  },
  "papermill": {
   "default_parameters": {},
   "duration": 55.345893,
   "end_time": "2024-01-31T08:39:09.898746",
   "environment_variables": {},
   "exception": null,
   "input_path": "__notebook__.ipynb",
   "output_path": "__notebook__.ipynb",
   "parameters": {},
   "start_time": "2024-01-31T08:38:14.552853",
   "version": "2.4.0"
  }
 },
 "nbformat": 4,
 "nbformat_minor": 5
}
